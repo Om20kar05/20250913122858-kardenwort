{
 "cells": [
  {
   "cell_type": "code",
   "execution_count": 1,
   "id": "e06a6b26",
   "metadata": {},
   "outputs": [
    {
     "name": "stdout",
     "output_type": "stream",
     "text": [
      "Слово           Часть речи (POS)     Зависимость (dep)    Главное слово (head)\n",
      "===========================================================================\n",
      "\n",
      "--- Анализ предложения: 'Hol die Kinder erst nachmittags von der Schule ab!' ---\n",
      "ab              ADP                  svp                  Hol            \n",
      "\n",
      "--- Анализ предложения: 'Hole die Kinder erst nachmittags von der Schule ab!' ---\n",
      "ab              ADP                  svp                  Hole           \n",
      "\n",
      "--- Анализ предложения: 'Holen Sie die Kinder erst nachmittags von der Schule ab!' ---\n",
      "Holen           VERB                 ROOT                 Holen          \n",
      "ab              ADP                  svp                  Holen          \n",
      "\n",
      "--- Анализ предложения: 'Ich hole die Kinder ab.' ---\n",
      "hole            VERB                 ROOT                 hole           \n",
      "ab              ADP                  svp                  hole           \n"
     ]
    }
   ],
   "source": [
    "import spacy\n",
    "\n",
    "# Загружаем немецкую модель\n",
    "nlp = spacy.load(\"de_core_news_lg\")\n",
    "\n",
    "# Список предложений для тестирования, включая ваши проблемные кейсы\n",
    "sentences = [\n",
    "    # Кейс 4: Императив, который не работал\n",
    "    \"Hol die Kinder erst nachmittags von der Schule ab!\",\n",
    "    \"Hole die Kinder erst nachmittags von der Schule ab!\",\n",
    "    \n",
    "    # Кейс 4: Императив (формальный), который вызывал регресс\n",
    "    \"Holen Sie die Kinder erst nachmittags von der Schule ab!\",\n",
    "    \n",
    "    # Контрольный пример: Простое изъявительное наклонение\n",
    "    \"Ich hole die Kinder ab.\"\n",
    "]\n",
    "\n",
    "# Форматированный заголовок для вывода\n",
    "print(f\"{'Слово':<15} {'Часть речи (POS)':<20} {'Зависимость (dep)':<20} {'Главное слово (head)':<15}\")\n",
    "print(\"=\" * 75)\n",
    "\n",
    "# Анализируем каждое предложение\n",
    "for sent in sentences:\n",
    "    print(f\"\\n--- Анализ предложения: '{sent}' ---\")\n",
    "    doc = nlp(sent)\n",
    "    for token in doc:\n",
    "        # Нас интересуют только глаголы и частицы\n",
    "        if token.pos_ in [\"VERB\", \"AUX\"] or token.dep_ == \"svp\":\n",
    "            print(f\"{token.text:<15} {token.pos_:<20} {token.dep_:<20} {token.head.text:<15}\")"
   ]
  }
 ],
 "metadata": {
  "kernelspec": {
   "display_name": "20250825231214-spacy-env (3.9.13)",
   "language": "python",
   "name": "python3"
  },
  "language_info": {
   "codemirror_mode": {
    "name": "ipython",
    "version": 3
   },
   "file_extension": ".py",
   "mimetype": "text/x-python",
   "name": "python",
   "nbconvert_exporter": "python",
   "pygments_lexer": "ipython3",
   "version": "3.9.13"
  }
 },
 "nbformat": 4,
 "nbformat_minor": 5
}
