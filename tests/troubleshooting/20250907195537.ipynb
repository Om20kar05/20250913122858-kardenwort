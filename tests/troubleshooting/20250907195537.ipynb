{
 "cells": [
  {
   "cell_type": "code",
   "execution_count": 1,
   "id": "95df7085",
   "metadata": {},
   "outputs": [
    {
     "name": "stdout",
     "output_type": "stream",
     "text": [
      "--- Проверка 'сырого' поведения лемматизатора spaCy ---\n",
      "Исходное слово            -> Лемма                     | Часть речи\n",
      "-----------------------------------------------------------------\n",
      "Www                       -> www                       | ADP\n",
      "Www.rhein                 -> Www.rhein                 | PROPN\n",
      "www.rheinwerk-verlag.de/6064. -> www.rheinwerk-verlag.de/6064. | PROPN\n",
      "haus                      -> Haus                      | NOUN\n",
      "Häuser                    -> Haus                      | NOUN\n",
      "ging                      -> gehen                     | VERB\n",
      "schönes                   -> schön                     | ADJ\n",
      "Unternehmen               -> Unternehmen               | NOUN\n",
      "Berlin                    -> Berlin                    | PROPN\n",
      "Www.rheinwerk-verlag.de   -> Www.rheinwerk-verlag.de   | NOUN\n"
     ]
    }
   ],
   "source": [
    "import spacy\n",
    "\n",
    "# Загружаем немецкую модель\n",
    "nlp = spacy.load(\"de_core_news_lg\")\n",
    "\n",
    "# Список слов для теста\n",
    "test_words = [\n",
    "    \"Www\",\n",
    "    \"Www.rhein\",\n",
    "    \"www.rheinwerk-verlag.de/6064.\",\n",
    "    \"haus\",        # Существительное во мн. числе (дома)\n",
    "    \"Häuser\",        # Существительное во мн. числе (дома)\n",
    "    \"ging\",          # Глагол в прошедшем времени (шел)\n",
    "    \"schönes\",       # Прилагательное в склоненной форме (красивое)\n",
    "    \"Unternehmen\",   # Существительное (предприятие), форма ед. и мн. числа совпадает\n",
    "    \"Berlin\",        # Имя собственное\n",
    "    \"Www.rheinwerk-verlag.de\" # URL-подобный токен\n",
    "]\n",
    "\n",
    "print(\"--- Проверка 'сырого' поведения лемматизатора spaCy ---\")\n",
    "print(f\"{'Исходное слово':<25} -> {'Лемма':<25} | {'Часть речи'}\")\n",
    "print(\"-\" * 65)\n",
    "\n",
    "# Обрабатываем каждое слово\n",
    "for word in test_words:\n",
    "    doc = nlp(word)\n",
    "    token = doc[0]\n",
    "    # Выводим результат\n",
    "    print(f\"{token.text:<25} -> {token.lemma_:<25} | {token.pos_}\")"
   ]
  }
 ],
 "metadata": {
  "kernelspec": {
   "display_name": "20250825231214-spacy-env (3.9.13)",
   "language": "python",
   "name": "python3"
  },
  "language_info": {
   "codemirror_mode": {
    "name": "ipython",
    "version": 3
   },
   "file_extension": ".py",
   "mimetype": "text/x-python",
   "name": "python",
   "nbconvert_exporter": "python",
   "pygments_lexer": "ipython3",
   "version": "3.9.13"
  }
 },
 "nbformat": 4,
 "nbformat_minor": 5
}
