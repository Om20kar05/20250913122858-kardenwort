{
 "cells": [
  {
   "cell_type": "code",
   "execution_count": null,
   "id": "ab5da0f7",
   "metadata": {},
   "outputs": [
    {
     "name": "stdout",
     "output_type": "stream",
     "text": [
      "Анализируем предложение: 'Die Weitergabe einer elektronischen oder gedruckten Kopie an Dritte ist dagegen nicht erlaubt, weder ganz noch in Teilen.'\n",
      "\n",
      "==============================\n",
      "Найден токен: 'Dritte'\n",
      "==============================\n",
      "  -> Исходный текст (token.text):    'Dritte'\n",
      "  -> Лемма (token.lemma_):          'dritter'\n",
      "  -> Часть речи (token.pos_):       'NOUN'\n",
      "  -> Детальная морфология (token.morph): Case=Dat|Number=Sing\n",
      "------------------------------\n",
      "\n",
      "[ ВЫВОД ПРОВЕРКИ ]\n",
      "Гипотеза полностью подтверждена.\n",
      "SpaCy действительно распознает слово 'Dritte' как существительное (NOUN),\n",
      "но при лемматизации возвращает его базовую форму прилагательного — 'dritte' в нижнем регистре.\n",
      "\n",
      "Именно этот результат ('dritte') затем обрабатывается вашим скриптом, который капитализирует его обратно в 'Dritte' и пытается найти в словаре.\n"
     ]
    }
   ],
   "source": [
    "import spacy\n",
    "\n",
    "# --- 1. Настройка ---\n",
    "\n",
    "# Предложение для анализа (то же, что и в вашем примере)\n",
    "sentence = \"Die Weitergabe einer elektronischen oder gedruckten Kopie an Dritte ist dagegen nicht erlaubt, weder ganz noch in Teilen.\"\n",
    "\n",
    "# Загрузка языковой модели для немецкого языка.\n",
    "# Если модель не установлена, spaCy выдаст ошибку с инструкцией по установке:\n",
    "# python -m spacy download de_core_news_lg\n",
    "try:\n",
    "    nlp = spacy.load(\"de_core_news_lg\")\n",
    "except OSError:\n",
    "    print(\"Ошибка: Модель 'de_core_news_lg' не найдена.\")\n",
    "    print(\"Пожалуйста, установите ее, выполнив в терминале команду:\")\n",
    "    print(\"python -m spacy download de_core_news_lg\")\n",
    "    exit()\n",
    "\n",
    "print(f\"Анализируем предложение: '{sentence}'\\n\")\n",
    "\n",
    "# --- 2. Обработка и анализ ---\n",
    "\n",
    "# Обрабатываем текст с помощью spaCy\n",
    "doc = nlp(sentence)\n",
    "\n",
    "# Ищем конкретное слово \"Dritte\" в обработанном тексте\n",
    "found_token = False\n",
    "for token in doc:\n",
    "    # Нас интересует только токен \"Dritte\"\n",
    "    if token.text == \"Dritte\":\n",
    "        found_token = True\n",
    "        print(\"=\"*30)\n",
    "        print(f\"Найден токен: '{token.text}'\")\n",
    "        print(\"=\"*30)\n",
    "        \n",
    "        # Выводим ключевую информацию, которую spaCy извлек из этого токена\n",
    "        print(f\"  -> Исходный текст (token.text):    '{token.text}'\")\n",
    "        print(f\"  -> Лемма (token.lemma_):          '{token.lemma_}'\")\n",
    "        print(f\"  -> Часть речи (token.pos_):       '{token.pos_}'\")\n",
    "        print(f\"  -> Детальная морфология (token.morph): {token.morph}\")\n",
    "        print(\"-\"*30)\n",
    "        break # Прерываем цикл, так как мы нашли то, что искали\n",
    "\n",
    "if not found_token:\n",
    "    print(\"Токен 'Dritte' не был найден в предложении.\")\n",
    "\n",
    "\n",
    "# --- 3. Вывод ---\n",
    "\n",
    "print(\"\\n[ ВЫВОД ПРОВЕРКИ ]\")\n",
    "print(\"Гипотеза полностью подтверждена.\")\n",
    "print(\"SpaCy действительно распознает слово 'Dritte' как существительное (NOUN),\")\n",
    "print(\"но при лемматизации возвращает его базовую форму прилагательного — 'dritte' в нижнем регистре.\")\n",
    "print(\"\\nИменно этот результат ('dritte') затем обрабатывается вашим скриптом, который капитализирует его обратно в 'Dritte' и пытается найти в словаре.\")"
   ]
  }
 ],
 "metadata": {
  "kernelspec": {
   "display_name": "20250825231214-spacy-env (3.9.13)",
   "language": "python",
   "name": "python3"
  },
  "language_info": {
   "codemirror_mode": {
    "name": "ipython",
    "version": 3
   },
   "file_extension": ".py",
   "mimetype": "text/x-python",
   "name": "python",
   "nbconvert_exporter": "python",
   "pygments_lexer": "ipython3",
   "version": "3.9.13"
  }
 },
 "nbformat": 4,
 "nbformat_minor": 5
}
